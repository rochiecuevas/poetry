{
 "cells": [
  {
   "cell_type": "markdown",
   "metadata": {},
   "source": [
    "# Collecting Rudyard Kipling's poems"
   ]
  },
  {
   "cell_type": "markdown",
   "metadata": {},
   "source": [
    "### Dependencies"
   ]
  },
  {
   "cell_type": "code",
   "execution_count": 1,
   "metadata": {},
   "outputs": [],
   "source": [
    "# General\n",
    "from pprint import pprint\n",
    "import string\n",
    "from string import digits\n",
    "\n",
    "# to scrape the data from websites\n",
    "from requests import get\n",
    "from bs4 import BeautifulSoup\n",
    "\n",
    "# to make the scraping more human-like by controlling the crawl rate\n",
    "from IPython.core.display import clear_output\n",
    "from time import sleep, time\n",
    "from random import randint\n",
    "\n",
    "# just in case of errors\n",
    "from warnings import warn"
   ]
  },
  {
   "cell_type": "markdown",
   "metadata": {},
   "source": [
    "### Define functions for extracting information from websites"
   ]
  },
  {
   "cell_type": "code",
   "execution_count": 2,
   "metadata": {},
   "outputs": [],
   "source": [
    "def webscraper(url_list):\n",
    "    \"\"\" Define a function that conducts webscraping \"\"\"\n",
    "    # Create an empty list of page soups\n",
    "    soups = []\n",
    "    \n",
    "    # Prepare the loop through the pages\n",
    "    start_time = time()\n",
    "    requests = 0\n",
    "    \n",
    "    # Iterate through the pages\n",
    "    for url in url_list:\n",
    "        if url == \"\":\n",
    "            page_soup = \"\"\n",
    "                \n",
    "        else:\n",
    "            # Make a get request for the contents of the URL\n",
    "            response = get(url)\n",
    "\n",
    "            # Pause the loop\n",
    "            sleep(randint(8,15))\n",
    "\n",
    "            # Monitor the requests\n",
    "            requests += 1\n",
    "            elapsed_time = time() - start_time\n",
    "            print(f\"Request {requests}; Frequency: {requests/elapsed_time} requests/sec\")\n",
    "            clear_output(wait = True) # to replace output with new one (instead of printing many outputs)\n",
    "\n",
    "            # If there's an error, throw an error warning\n",
    "            if response.status_code != 200:\n",
    "                warn(f\"Request: {requests}; Status code: {response.status_code}\")\n",
    "\n",
    "            # If there are more requests than expected, break the loop\n",
    "            if requests > len(url_list):\n",
    "                warn(\"Number of requests more than expected.\")\n",
    "                break\n",
    "\n",
    "            # Scrape with BeautifulSoup\n",
    "            page_soup = BeautifulSoup(response.text, \"html.parser\")\n",
    "            \n",
    "        soups.append(page_soup)\n",
    "    \n",
    "    return soups"
   ]
  },
  {
   "cell_type": "code",
   "execution_count": 3,
   "metadata": {},
   "outputs": [],
   "source": [
    "def extract_text(poem_list):\n",
    "    \"\"\" Loops through a list of poems and extracts lines of text\"\"\"\n",
    "    poem_lines2 = []\n",
    "    for poem in poem_list:\n",
    "        # Create an empty list\n",
    "        lines = []\n",
    "        \n",
    "        # Loop through each poem (a list of lines), extract the text, add to the empty list\n",
    "        for line in poem:\n",
    "            lines.append(line.text)\n",
    "        poem_lines2.append(lines)    \n",
    "            \n",
    "    return poem_lines2      "
   ]
  },
  {
   "cell_type": "markdown",
   "metadata": {},
   "source": [
    "### Webscraping"
   ]
  },
  {
   "cell_type": "code",
   "execution_count": 4,
   "metadata": {},
   "outputs": [],
   "source": [
    "# Sources of list of Kipling's poems (1885–1918)\n",
    "url = [\"https://www.bartleby.com/364/\",\n",
    "       \"https://www.bartleby.com/people/Kipling.html\"]"
   ]
  },
  {
   "cell_type": "code",
   "execution_count": null,
   "metadata": {},
   "outputs": [],
   "source": []
  }
 ],
 "metadata": {
  "kernelspec": {
   "display_name": "Python 3",
   "language": "python",
   "name": "python3"
  },
  "language_info": {
   "codemirror_mode": {
    "name": "ipython",
    "version": 3
   },
   "file_extension": ".py",
   "mimetype": "text/x-python",
   "name": "python",
   "nbconvert_exporter": "python",
   "pygments_lexer": "ipython3",
   "version": "3.6.5"
  }
 },
 "nbformat": 4,
 "nbformat_minor": 2
}
