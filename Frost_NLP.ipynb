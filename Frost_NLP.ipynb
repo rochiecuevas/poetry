{
 "cells": [
  {
   "cell_type": "markdown",
   "metadata": {},
   "source": [
    "## Robert Frost, meet Natural Language Processing"
   ]
  },
  {
   "cell_type": "markdown",
   "metadata": {},
   "source": [
    "### Extract the data"
   ]
  },
  {
   "cell_type": "code",
   "execution_count": 1,
   "metadata": {},
   "outputs": [],
   "source": [
    "# Dependencies to read the SQLite database\n",
    "import pandas as pd\n",
    "import sqlite3"
   ]
  },
  {
   "cell_type": "code",
   "execution_count": 2,
   "metadata": {},
   "outputs": [
    {
     "data": {
      "text/html": [
       "<div>\n",
       "<style scoped>\n",
       "    .dataframe tbody tr th:only-of-type {\n",
       "        vertical-align: middle;\n",
       "    }\n",
       "\n",
       "    .dataframe tbody tr th {\n",
       "        vertical-align: top;\n",
       "    }\n",
       "\n",
       "    .dataframe thead th {\n",
       "        text-align: right;\n",
       "    }\n",
       "</style>\n",
       "<table border=\"1\" class=\"dataframe\">\n",
       "  <thead>\n",
       "    <tr style=\"text-align: right;\">\n",
       "      <th></th>\n",
       "      <th>index</th>\n",
       "      <th>title</th>\n",
       "      <th>link</th>\n",
       "      <th>lines</th>\n",
       "    </tr>\n",
       "  </thead>\n",
       "  <tbody>\n",
       "    <tr>\n",
       "      <th>0</th>\n",
       "      <td>0</td>\n",
       "      <td>October</td>\n",
       "      <td>https://www.poetryfoundation.org/poems/53084/o...</td>\n",
       "      <td>O hushed October morning mild, Thy leaves have...</td>\n",
       "    </tr>\n",
       "    <tr>\n",
       "      <th>1</th>\n",
       "      <td>1</td>\n",
       "      <td>‘Out, Out—’</td>\n",
       "      <td>https://www.poetryfoundation.org/poems/53087/o...</td>\n",
       "      <td>The buzz saw snarled and rattled in the yard A...</td>\n",
       "    </tr>\n",
       "    <tr>\n",
       "      <th>2</th>\n",
       "      <td>2</td>\n",
       "      <td>Acquainted with the Night</td>\n",
       "      <td>https://www.poetryfoundation.org/poems/47548/a...</td>\n",
       "      <td>I have been one acquainted with the night. I h...</td>\n",
       "    </tr>\n",
       "    <tr>\n",
       "      <th>3</th>\n",
       "      <td>3</td>\n",
       "      <td>After Apple-Picking</td>\n",
       "      <td>https://www.poetryfoundation.org/poems/44259/a...</td>\n",
       "      <td>My long two-pointed ladder's sticking through ...</td>\n",
       "    </tr>\n",
       "    <tr>\n",
       "      <th>4</th>\n",
       "      <td>4</td>\n",
       "      <td>Birches</td>\n",
       "      <td>https://www.poetryfoundation.org/poems/44260/b...</td>\n",
       "      <td>When I see birches bend to left and right Acro...</td>\n",
       "    </tr>\n",
       "  </tbody>\n",
       "</table>\n",
       "</div>"
      ],
      "text/plain": [
       "   index                      title  \\\n",
       "0      0                    October   \n",
       "1      1                ‘Out, Out—’   \n",
       "2      2  Acquainted with the Night   \n",
       "3      3        After Apple-Picking   \n",
       "4      4                    Birches   \n",
       "\n",
       "                                                link  \\\n",
       "0  https://www.poetryfoundation.org/poems/53084/o...   \n",
       "1  https://www.poetryfoundation.org/poems/53087/o...   \n",
       "2  https://www.poetryfoundation.org/poems/47548/a...   \n",
       "3  https://www.poetryfoundation.org/poems/44259/a...   \n",
       "4  https://www.poetryfoundation.org/poems/44260/b...   \n",
       "\n",
       "                                               lines  \n",
       "0  O hushed October morning mild, Thy leaves have...  \n",
       "1  The buzz saw snarled and rattled in the yard A...  \n",
       "2  I have been one acquainted with the night. I h...  \n",
       "3  My long two-pointed ladder's sticking through ...  \n",
       "4  When I see birches bend to left and right Acro...  "
      ]
     },
     "execution_count": 2,
     "metadata": {},
     "output_type": "execute_result"
    }
   ],
   "source": [
    "# Connect to the poetry database\n",
    "conn = sqlite3.connect(\"Poetry.db\")\n",
    "\n",
    "# Load the data into a dataframe\n",
    "df = pd.read_sql_query(\"select * from Frost;\", conn)\n",
    "conn.close()\n",
    "\n",
    "# Print the dataframe\n",
    "df.head()"
   ]
  },
  {
   "cell_type": "code",
   "execution_count": 3,
   "metadata": {},
   "outputs": [],
   "source": [
    "df = df[[\"title\", \"lines\"]]"
   ]
  },
  {
   "cell_type": "markdown",
   "metadata": {},
   "source": [
    "### Transform the data"
   ]
  },
  {
   "cell_type": "code",
   "execution_count": 4,
   "metadata": {},
   "outputs": [
    {
     "name": "stdout",
     "output_type": "stream",
     "text": [
      "[nltk_data] Downloading package punkt to\n",
      "[nltk_data]     /Users/rochiecuevas/nltk_data...\n",
      "[nltk_data]   Package punkt is already up-to-date!\n",
      "[nltk_data] Downloading package stopwords to\n",
      "[nltk_data]     /Users/rochiecuevas/nltk_data...\n",
      "[nltk_data]   Package stopwords is already up-to-date!\n",
      "[nltk_data] Downloading package wordnet to\n",
      "[nltk_data]     /Users/rochiecuevas/nltk_data...\n",
      "[nltk_data]   Package wordnet is already up-to-date!\n"
     ]
    }
   ],
   "source": [
    "# Dependencies\n",
    "import nltk\n",
    "nltk.download(\"punkt\")\n",
    "nltk.download('stopwords')\n",
    "nltk.download('wordnet')\n",
    "\n",
    "from nltk.tokenize import word_tokenize\n",
    "from nltk.corpus import stopwords\n",
    "from nltk.stem import WordNetLemmatizer"
   ]
  },
  {
   "cell_type": "markdown",
   "metadata": {},
   "source": [
    "#### Tokenise, Remove Stop Words, Lemmatise"
   ]
  },
  {
   "cell_type": "code",
   "execution_count": 5,
   "metadata": {},
   "outputs": [],
   "source": [
    "# Remove stop words from the list\n",
    "stops = stopwords.words(\"english\")\n",
    "punctuations = [\",\", \".\", \"/\", \"?\", \"!\", \";\", \":\", \"-\", \"’\", \"‘\",\"\"]\n",
    "\n",
    "# Lemmatise the words in each list to retain their roots\n",
    "lemmatiser = WordNetLemmatizer()"
   ]
  },
  {
   "cell_type": "code",
   "execution_count": 6,
   "metadata": {},
   "outputs": [
    {
     "data": {
      "text/html": [
       "<div>\n",
       "<style scoped>\n",
       "    .dataframe tbody tr th:only-of-type {\n",
       "        vertical-align: middle;\n",
       "    }\n",
       "\n",
       "    .dataframe tbody tr th {\n",
       "        vertical-align: top;\n",
       "    }\n",
       "\n",
       "    .dataframe thead th {\n",
       "        text-align: right;\n",
       "    }\n",
       "</style>\n",
       "<table border=\"1\" class=\"dataframe\">\n",
       "  <thead>\n",
       "    <tr style=\"text-align: right;\">\n",
       "      <th></th>\n",
       "      <th>title</th>\n",
       "      <th>lines</th>\n",
       "      <th>tokens</th>\n",
       "    </tr>\n",
       "  </thead>\n",
       "  <tbody>\n",
       "    <tr>\n",
       "      <th>0</th>\n",
       "      <td>October</td>\n",
       "      <td>O hushed October morning mild, Thy leaves have...</td>\n",
       "      <td>[hush, october, morning, mild, thy, leave, rip...</td>\n",
       "    </tr>\n",
       "    <tr>\n",
       "      <th>1</th>\n",
       "      <td>‘Out, Out—’</td>\n",
       "      <td>The buzz saw snarled and rattled in the yard A...</td>\n",
       "      <td>[buzz, saw, snarl, rattle, yard, make, dust, d...</td>\n",
       "    </tr>\n",
       "    <tr>\n",
       "      <th>2</th>\n",
       "      <td>Acquainted with the Night</td>\n",
       "      <td>I have been one acquainted with the night. I h...</td>\n",
       "      <td>[one, acquaint, night, walk, rain—and, back, r...</td>\n",
       "    </tr>\n",
       "    <tr>\n",
       "      <th>3</th>\n",
       "      <td>After Apple-Picking</td>\n",
       "      <td>My long two-pointed ladder's sticking through ...</td>\n",
       "      <td>[long, two-pointed, ladder, 's, stick, tree, t...</td>\n",
       "    </tr>\n",
       "    <tr>\n",
       "      <th>4</th>\n",
       "      <td>Birches</td>\n",
       "      <td>When I see birches bend to left and right Acro...</td>\n",
       "      <td>[see, birch, bend, leave, right, across, line,...</td>\n",
       "    </tr>\n",
       "  </tbody>\n",
       "</table>\n",
       "</div>"
      ],
      "text/plain": [
       "                       title  \\\n",
       "0                    October   \n",
       "1                ‘Out, Out—’   \n",
       "2  Acquainted with the Night   \n",
       "3        After Apple-Picking   \n",
       "4                    Birches   \n",
       "\n",
       "                                               lines  \\\n",
       "0  O hushed October morning mild, Thy leaves have...   \n",
       "1  The buzz saw snarled and rattled in the yard A...   \n",
       "2  I have been one acquainted with the night. I h...   \n",
       "3  My long two-pointed ladder's sticking through ...   \n",
       "4  When I see birches bend to left and right Acro...   \n",
       "\n",
       "                                              tokens  \n",
       "0  [hush, october, morning, mild, thy, leave, rip...  \n",
       "1  [buzz, saw, snarl, rattle, yard, make, dust, d...  \n",
       "2  [one, acquaint, night, walk, rain—and, back, r...  \n",
       "3  [long, two-pointed, ladder, 's, stick, tree, t...  \n",
       "4  [see, birch, bend, leave, right, across, line,...  "
      ]
     },
     "execution_count": 6,
     "metadata": {},
     "output_type": "execute_result"
    }
   ],
   "source": [
    "# Transform the poem in preparation for word counts\n",
    "words_list = []\n",
    "for poem in df[\"lines\"]:\n",
    "    \n",
    "    # Create a list of words per poem     \n",
    "    words = word_tokenize(poem.lower())\n",
    "    \n",
    "    # Filter to remove stop words and punctuations    \n",
    "    words2 = [word for word in words if word not in stops and word not in punctuations]\n",
    "    \n",
    "    # Lemmatise each word (if it's a verb, convert to root verb)\n",
    "    words3 = [lemmatiser.lemmatize(word, pos = \"v\") for word in words2]\n",
    "    \n",
    "    # Add the filtered list of words (representing each poem)\n",
    "    words_list.append(words3)\n",
    "\n",
    "df[\"tokens\"] = words_list    \n",
    "df.head()"
   ]
  },
  {
   "cell_type": "code",
   "execution_count": 7,
   "metadata": {},
   "outputs": [],
   "source": [
    "# Create a function that counts the number of words in each poem\n",
    "def word_count(word_list):\n",
    "    return len(word_list)"
   ]
  },
  {
   "cell_type": "code",
   "execution_count": 8,
   "metadata": {},
   "outputs": [
    {
     "data": {
      "text/html": [
       "<div>\n",
       "<style scoped>\n",
       "    .dataframe tbody tr th:only-of-type {\n",
       "        vertical-align: middle;\n",
       "    }\n",
       "\n",
       "    .dataframe tbody tr th {\n",
       "        vertical-align: top;\n",
       "    }\n",
       "\n",
       "    .dataframe thead th {\n",
       "        text-align: right;\n",
       "    }\n",
       "</style>\n",
       "<table border=\"1\" class=\"dataframe\">\n",
       "  <thead>\n",
       "    <tr style=\"text-align: right;\">\n",
       "      <th></th>\n",
       "      <th>title</th>\n",
       "      <th>lines</th>\n",
       "      <th>tokens</th>\n",
       "      <th>poemLength</th>\n",
       "    </tr>\n",
       "  </thead>\n",
       "  <tbody>\n",
       "    <tr>\n",
       "      <th>0</th>\n",
       "      <td>October</td>\n",
       "      <td>O hushed October morning mild, Thy leaves have...</td>\n",
       "      <td>[hush, october, morning, mild, thy, leave, rip...</td>\n",
       "      <td>80</td>\n",
       "    </tr>\n",
       "    <tr>\n",
       "      <th>1</th>\n",
       "      <td>‘Out, Out—’</td>\n",
       "      <td>The buzz saw snarled and rattled in the yard A...</td>\n",
       "      <td>[buzz, saw, snarl, rattle, yard, make, dust, d...</td>\n",
       "      <td>150</td>\n",
       "    </tr>\n",
       "    <tr>\n",
       "      <th>2</th>\n",
       "      <td>Acquainted with the Night</td>\n",
       "      <td>I have been one acquainted with the night. I h...</td>\n",
       "      <td>[one, acquaint, night, walk, rain—and, back, r...</td>\n",
       "      <td>54</td>\n",
       "    </tr>\n",
       "    <tr>\n",
       "      <th>3</th>\n",
       "      <td>After Apple-Picking</td>\n",
       "      <td>My long two-pointed ladder's sticking through ...</td>\n",
       "      <td>[long, two-pointed, ladder, 's, stick, tree, t...</td>\n",
       "      <td>142</td>\n",
       "    </tr>\n",
       "    <tr>\n",
       "      <th>4</th>\n",
       "      <td>Birches</td>\n",
       "      <td>When I see birches bend to left and right Acro...</td>\n",
       "      <td>[see, birch, bend, leave, right, across, line,...</td>\n",
       "      <td>252</td>\n",
       "    </tr>\n",
       "  </tbody>\n",
       "</table>\n",
       "</div>"
      ],
      "text/plain": [
       "                       title  \\\n",
       "0                    October   \n",
       "1                ‘Out, Out—’   \n",
       "2  Acquainted with the Night   \n",
       "3        After Apple-Picking   \n",
       "4                    Birches   \n",
       "\n",
       "                                               lines  \\\n",
       "0  O hushed October morning mild, Thy leaves have...   \n",
       "1  The buzz saw snarled and rattled in the yard A...   \n",
       "2  I have been one acquainted with the night. I h...   \n",
       "3  My long two-pointed ladder's sticking through ...   \n",
       "4  When I see birches bend to left and right Acro...   \n",
       "\n",
       "                                              tokens  poemLength  \n",
       "0  [hush, october, morning, mild, thy, leave, rip...          80  \n",
       "1  [buzz, saw, snarl, rattle, yard, make, dust, d...         150  \n",
       "2  [one, acquaint, night, walk, rain—and, back, r...          54  \n",
       "3  [long, two-pointed, ladder, 's, stick, tree, t...         142  \n",
       "4  [see, birch, bend, leave, right, across, line,...         252  "
      ]
     },
     "execution_count": 8,
     "metadata": {},
     "output_type": "execute_result"
    }
   ],
   "source": [
    "# Determine the length of each filtered poem\n",
    "lengths = []\n",
    "for poem in df[\"tokens\"]:\n",
    "    length = word_count(poem)\n",
    "    lengths.append(length)\n",
    "\n",
    "# Add the filtered poem lengths in the df\n",
    "df[\"poemLength\"] = lengths\n",
    "df.head()"
   ]
  },
  {
   "cell_type": "code",
   "execution_count": 9,
   "metadata": {},
   "outputs": [
    {
     "name": "stdout",
     "output_type": "stream",
     "text": [
      "Shortest poem: Dust of Snow; Filtered poem length: 15 words\n",
      "Longest poem: The Death of the Hired Man; Filtered poem length: 654 words\n"
     ]
    }
   ],
   "source": [
    "# Longest and shortest poems\n",
    "longest_poem = df[\"poemLength\"].max()\n",
    "shortest_poem = df[\"poemLength\"].min()\n",
    "\n",
    "for i in range(0, len(df[\"poemLength\"])):\n",
    "    if df[\"poemLength\"][i] == longest_poem:\n",
    "        print(f'Longest poem: {df[\"title\"][i]}; Filtered poem length: {df[\"poemLength\"][i]} words')\n",
    "    if df[\"poemLength\"][i] == shortest_poem:\n",
    "        print(f'Shortest poem: {df[\"title\"][i]}; Filtered poem length: {df[\"poemLength\"][i]} words')\n",
    "        "
   ]
  },
  {
   "cell_type": "code",
   "execution_count": null,
   "metadata": {},
   "outputs": [],
   "source": []
  }
 ],
 "metadata": {
  "kernelspec": {
   "display_name": "Python 3",
   "language": "python",
   "name": "python3"
  },
  "language_info": {
   "codemirror_mode": {
    "name": "ipython",
    "version": 3
   },
   "file_extension": ".py",
   "mimetype": "text/x-python",
   "name": "python",
   "nbconvert_exporter": "python",
   "pygments_lexer": "ipython3",
   "version": "3.6.5"
  }
 },
 "nbformat": 4,
 "nbformat_minor": 2
}
