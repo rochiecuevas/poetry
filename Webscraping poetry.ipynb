{
 "cells": [
  {
   "cell_type": "markdown",
   "metadata": {},
   "source": [
    "# Comparative analysis of Robert Frost's poems"
   ]
  },
  {
   "cell_type": "markdown",
   "metadata": {},
   "source": [
    "## Webscraping"
   ]
  },
  {
   "cell_type": "code",
   "execution_count": 1,
   "metadata": {},
   "outputs": [],
   "source": [
    "# Dependencies\n",
    "\n",
    "# to scrape the data from websites\n",
    "from requests import get\n",
    "from bs4 import BeautifulSoup\n",
    "\n",
    "# to make the scraping more human-like by controlling the crawl rate\n",
    "from IPython.core.display import clear_output\n",
    "from time import sleep, time\n",
    "from random import randint\n",
    "\n",
    "# just in case of errors\n",
    "from warnings import warn"
   ]
  },
  {
   "cell_type": "code",
   "execution_count": 2,
   "metadata": {},
   "outputs": [],
   "source": [
    "# State the source of the data (there are four pages to scrape)\n",
    "pages = [str(i) for i in range(1,5)]\n",
    "url = \"https://www.poetryfoundation.org/search?query=Robert%20Frost&refinement=poems&page=\""
   ]
  },
  {
   "cell_type": "code",
   "execution_count": 3,
   "metadata": {},
   "outputs": [
    {
     "name": "stdout",
     "output_type": "stream",
     "text": [
      "Request 4; Frequency: 0.07980943292158231 requests/sec\n"
     ]
    }
   ],
   "source": [
    "# Create an empty list for parsed data from web scraping\n",
    "# So there's no need to scrape repeatedly\n",
    "soups = []\n",
    "    \n",
    "# Prepare the loop through the pages\n",
    "start_time = time()\n",
    "requests = 0\n",
    "\n",
    "# Loop through the pages\n",
    "for page in pages:\n",
    "    # Make a get request for the contents of the URL\n",
    "    response = get(url + page)\n",
    "    \n",
    "    # Pause the loop\n",
    "    sleep(randint(8,15))\n",
    "    \n",
    "    # Monitor the requests\n",
    "    requests += 1\n",
    "    elapsed_time = time() - start_time\n",
    "    print(f\"Request {requests}; Frequency: {requests/elapsed_time} requests/sec\")\n",
    "    clear_output(wait = True) # to replace output with new one (instead of printing many outputs)\n",
    "    \n",
    "    # If there's an error, throw an error warning\n",
    "    if response.status_code != 200:\n",
    "        warn(f\"Request: {requests}; Status code: {response.status_code}\")\n",
    "    \n",
    "    # If there are more than 5 requests, break the loop\n",
    "    if requests > 5:\n",
    "        warn(\"Number of requests more than expected.\")\n",
    "        break\n",
    "    \n",
    "    # Scrape with BeautifulSoup\n",
    "    page_soup = BeautifulSoup(response.text, \"html.parser\")\n",
    "    soups.append(page_soup)"
   ]
  },
  {
   "cell_type": "code",
   "execution_count": 4,
   "metadata": {},
   "outputs": [],
   "source": [
    "# Create empty lists for links and titles of poems authored by Robert Frost\n",
    "# NB: There are poems in the list that refer to him but not authored by him\n",
    "links = []\n",
    "titles = []\n",
    "\n",
    "for soup in soups:\n",
    "    soup1 = soup.find_all(\"div\", class_ = \"c-feature\")\n",
    "    \n",
    "    for item in soup1:\n",
    "        if item.find(\"div\", class_ = \"c-feature-sub\").text[4:-1] == \"Robert Frost\":\n",
    "            soup2 = item.find(\"div\", class_ = \"c-feature-hd\") \n",
    "            if soup2 is not None:\n",
    "                titles.append(soup2.a.text)\n",
    "                links.append(soup2.a[\"href\"])\n",
    "            else:\n",
    "                continue # go to the next item\n",
    "        else:\n",
    "            continue # go to the next item"
   ]
  },
  {
   "cell_type": "markdown",
   "metadata": {},
   "source": [
    "## Load the poems into a dataframe"
   ]
  },
  {
   "cell_type": "code",
   "execution_count": 5,
   "metadata": {},
   "outputs": [],
   "source": [
    "# Dependencies\n",
    "import pandas as pd"
   ]
  },
  {
   "cell_type": "code",
   "execution_count": 6,
   "metadata": {},
   "outputs": [
    {
     "name": "stdout",
     "output_type": "stream",
     "text": [
      "Robert Frost has 53 poems that are currently shared in the Poetry Foundation.\n"
     ]
    }
   ],
   "source": [
    "# Load the titles and the links in a dataframe\n",
    "poems = pd.DataFrame({\"title\": titles, \n",
    "                      \"link\": links})\n",
    "print(f\"Robert Frost has {len(poems)} poems that are currently shared in the Poetry Foundation.\")"
   ]
  },
  {
   "cell_type": "code",
   "execution_count": 7,
   "metadata": {},
   "outputs": [
    {
     "data": {
      "text/html": [
       "<div>\n",
       "<style scoped>\n",
       "    .dataframe tbody tr th:only-of-type {\n",
       "        vertical-align: middle;\n",
       "    }\n",
       "\n",
       "    .dataframe tbody tr th {\n",
       "        vertical-align: top;\n",
       "    }\n",
       "\n",
       "    .dataframe thead th {\n",
       "        text-align: right;\n",
       "    }\n",
       "</style>\n",
       "<table border=\"1\" class=\"dataframe\">\n",
       "  <thead>\n",
       "    <tr style=\"text-align: right;\">\n",
       "      <th></th>\n",
       "      <th>title</th>\n",
       "      <th>link</th>\n",
       "    </tr>\n",
       "  </thead>\n",
       "  <tbody>\n",
       "    <tr>\n",
       "      <th>0</th>\n",
       "      <td>October</td>\n",
       "      <td>https://www.poetryfoundation.org/poems/53084/o...</td>\n",
       "    </tr>\n",
       "    <tr>\n",
       "      <th>1</th>\n",
       "      <td>‘Out, Out—’</td>\n",
       "      <td>https://www.poetryfoundation.org/poems/53087/o...</td>\n",
       "    </tr>\n",
       "    <tr>\n",
       "      <th>2</th>\n",
       "      <td>Acquainted with the Night</td>\n",
       "      <td>https://www.poetryfoundation.org/poems/47548/a...</td>\n",
       "    </tr>\n",
       "    <tr>\n",
       "      <th>3</th>\n",
       "      <td>After Apple-Picking</td>\n",
       "      <td>https://www.poetryfoundation.org/poems/44259/a...</td>\n",
       "    </tr>\n",
       "    <tr>\n",
       "      <th>4</th>\n",
       "      <td>Birches</td>\n",
       "      <td>https://www.poetryfoundation.org/poems/44260/b...</td>\n",
       "    </tr>\n",
       "  </tbody>\n",
       "</table>\n",
       "</div>"
      ],
      "text/plain": [
       "                       title  \\\n",
       "0                    October   \n",
       "1                ‘Out, Out—’   \n",
       "2  Acquainted with the Night   \n",
       "3        After Apple-Picking   \n",
       "4                    Birches   \n",
       "\n",
       "                                                link  \n",
       "0  https://www.poetryfoundation.org/poems/53084/o...  \n",
       "1  https://www.poetryfoundation.org/poems/53087/o...  \n",
       "2  https://www.poetryfoundation.org/poems/47548/a...  \n",
       "3  https://www.poetryfoundation.org/poems/44259/a...  \n",
       "4  https://www.poetryfoundation.org/poems/44260/b...  "
      ]
     },
     "execution_count": 7,
     "metadata": {},
     "output_type": "execute_result"
    }
   ],
   "source": [
    "# Preview the poem title and their links in the dataframe\n",
    "poems.head()"
   ]
  },
  {
   "cell_type": "markdown",
   "metadata": {},
   "source": [
    "## Scrape each poem and add the words to the dataframe"
   ]
  },
  {
   "cell_type": "code",
   "execution_count": null,
   "metadata": {},
   "outputs": [
    {
     "name": "stdout",
     "output_type": "stream",
     "text": [
      "Request 25; Frequency: 0.08210563866809754 requests/sec\n"
     ]
    }
   ],
   "source": [
    "# Create an empty list of lines of poetry\n",
    "poem_lines = []\n",
    "\n",
    "# Prepare for looping through the links\n",
    "start_time = time()\n",
    "requests = 0\n",
    "\n",
    "# Loop through the links\n",
    "for link in poems[\"link\"]:\n",
    "    \n",
    "    # Make a get request for the contents of the link\n",
    "    response2 = get(link)\n",
    "    \n",
    "    # Pause the loop\n",
    "    sleep(randint(8,15))\n",
    "    \n",
    "    # Monitor the requests\n",
    "    requests += 1\n",
    "    elapsed_time = time() - start_time\n",
    "    print(f\"Request {requests}; Frequency: {requests/elapsed_time} requests/sec\")\n",
    "    clear_output(wait = True) # to replace output with new one (instead of printing many outputs)\n",
    "    \n",
    "    # If there's an error, throw an error warning\n",
    "    if response.status_code != 200:\n",
    "        warn(f\"Request: {requests}; Status code: {response.status_code}\")\n",
    "    \n",
    "    # If there are more than 70 requests (70 poems), break the loop\n",
    "    if requests > 70:\n",
    "        warn(\"Number of requests more than expected.\")\n",
    "        break\n",
    "        \n",
    "    # Scrape with BeautifulSoup\n",
    "    poem_soup = BeautifulSoup(response2.text, \"html.parser\")\n",
    "    \n",
    "    # List the lines found in the URL\n",
    "    lines_html = poem_soup.find(\"div\", {\"class\": \"o-poem\"})\n",
    "    \n",
    "    if lines_html is not None:\n",
    "        lines_html = list(lines_html)[1:-1]\n",
    "    else: \n",
    "        lines_html = \"\""
   ]
  },
  {
   "cell_type": "code",
   "execution_count": null,
   "metadata": {},
   "outputs": [],
   "source": [
    "url2 = poems[\"link\"][69]\n",
    "\n",
    "response2 = get(url2)\n",
    "soup = BeautifulSoup(response2.text, \"html.parser\")\n",
    "soup2 = soup.find(\"div\", {\"class\": \"o-poem\"})\n",
    "\n",
    "if soup2 != None:\n",
    "    soup3 = list(soup2)[1:-1]\n",
    "    print(soup3)\n",
    "else: print(\"Nope\")    "
   ]
  }
 ],
 "metadata": {
  "kernelspec": {
   "display_name": "Python 3",
   "language": "python",
   "name": "python3"
  },
  "language_info": {
   "codemirror_mode": {
    "name": "ipython",
    "version": 3
   },
   "file_extension": ".py",
   "mimetype": "text/x-python",
   "name": "python",
   "nbconvert_exporter": "python",
   "pygments_lexer": "ipython3",
   "version": "3.6.5"
  }
 },
 "nbformat": 4,
 "nbformat_minor": 2
}
